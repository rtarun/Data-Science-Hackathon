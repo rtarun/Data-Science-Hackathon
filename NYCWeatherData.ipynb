{
 "cells": [
  {
   "cell_type": "code",
   "execution_count": null,
   "metadata": {
    "collapsed": false
   },
   "outputs": [
    {
     "name": "stdout",
     "output_type": "stream",
     "text": [
      "1095\n",
      "http://www.wunderground.com/history/airport/KNYC/2013/1/1/DailyHistory.html\n",
      "http://www.wunderground.com/history/airport/KNYC/2013/1/2/DailyHistory.html\n"
     ]
    }
   ],
   "source": [
    "days_per_month = {1: 31, 2: 28, 3: 31, 4: 30,\n",
    "                  5: 31, 6: 30, 7: 31, 8: 31,\n",
    "                  9: 30, 10: 31, 11: 30, 12: 31}\n",
    "\n",
    "link_format = \"http://www.wunderground.com/history/airport/KNYC/{}/{}/{}/DailyHistory.html\"\n",
    "links = [link_format.format(year, month, day)\n",
    "         for year in range(2013, 2016) # 2013 - 2015 inclusive\n",
    "         for month in range(1, 13)     # 1 - 12 inclusive\n",
    "         for day in range(1, days_per_month[month] + 1)]\n",
    "\n",
    "print(len(links))\n",
    "print(\"\\n\".join(links[:2]))"
   ]
  },
  {
   "cell_type": "code",
   "execution_count": null,
   "metadata": {
    "collapsed": false
   },
   "outputs": [
    {
     "name": "stdout",
     "output_type": "stream",
     "text": [
      "Done with 0..\n",
      "Done with 50..\n",
      "Done with 100..\n",
      "Done with 150..\n",
      "Done with 200..\n",
      "Done with 250..\n",
      "Done with 300..\n",
      "Done with 350..\n",
      "Done with 400..\n"
     ]
    }
   ],
   "source": [
    "import requests\n",
    "import os.path\n",
    "\n",
    "def download_file(link, name):\n",
    "    if os.path.isfile(name):\n",
    "        return\n",
    "    file = open(name, 'w')\n",
    "    r = requests.get(link)\n",
    "    file.write(r.text)\n",
    "    file.close()\n",
    "for i, link in enumerate(links):\n",
    "    if i % 50 == 0:\n",
    "        print(\"Done with %d..\" % i)\n",
    "    download_file(link, \"%d.html\" % i)"
   ]
  },
  {
   "cell_type": "markdown",
   "metadata": {},
   "source": []
  },
  {
   "cell_type": "code",
   "execution_count": null,
   "metadata": {
    "collapsed": true
   },
   "outputs": [],
   "source": [
    "from bs4 import BeautifulSoup\n",
    "\n",
    "with open(\"0.html\") as fin:\n",
    "    soup = BeautifulSoup(fin.read(), \"html.parser\")"
   ]
  },
  {
   "cell_type": "code",
   "execution_count": null,
   "metadata": {
    "collapsed": true
   },
   "outputs": [],
   "source": [
    "all_as = soup.find_all('a')\n",
    "for i in range(5):\n",
    "    print(all_as[-i])\n",
    "    print()"
   ]
  },
  {
   "cell_type": "code",
   "execution_count": null,
   "metadata": {
    "collapsed": false
   },
   "outputs": [],
   "source": [
    "main_table = soup.find(id='historyTable')"
   ]
  },
  {
   "cell_type": "code",
   "execution_count": null,
   "metadata": {
    "collapsed": true
   },
   "outputs": [],
   "source": [
    "rows = main_table.find_all('tr')\n",
    "print(len(rows))\n",
    "for i in range(3):\n",
    "    print(rows[i])\n",
    "    print()"
   ]
  },
  {
   "cell_type": "code",
   "execution_count": null,
   "metadata": {
    "collapsed": true
   },
   "outputs": [],
   "source": [
    "row = rows[2]\n",
    "for cell in row.find_all('td'):\n",
    "    print(cell)\n",
    "    print()\n",
    "row_name = row.find_all('td')[0].text.strip()  # Get rid of extra whitespace\n",
    "row_value = row.find_all('td')[1].text.strip()\n",
    "print(row_name, \":\", row_value)\n"
   ]
  },
  {
   "cell_type": "code",
   "execution_count": null,
   "metadata": {
    "collapsed": true
   },
   "outputs": [],
   "source": [
    "for row in rows:\n",
    "    #Only process the rows with 4 cells to eliminate heading rows, etc.\n",
    "    if len(row.find_all('td')) == 4:\n",
    "        row_name = row.find_all('td')[0].text.strip()\n",
    "        row_value = row.find_all('td')[1].text.strip() \n",
    "        print(row_name, \":\", row_value)    "
   ]
  },
  {
   "cell_type": "code",
   "execution_count": null,
   "metadata": {
    "collapsed": true
   },
   "outputs": [],
   "source": [
    "fields = ['Mean Temperature', 'Max Temperature', 'Min Temperature',\\\n",
    "          'Dew Point', 'Average Humidity', 'Maximum Humidity',\\\n",
    "          'Minimum Humidity', 'Precipitation', 'Wind Speed',\\\n",
    "          'Max Wind Speed', 'Max Gust Speed']\n",
    "def scrape_file(name):\n",
    "    with open(name) as fin:\n",
    "        soup = BeautifulSoup(fin.read(), \"html.parser\")\n",
    "    data = {}\n",
    "    for row in soup.find(id=\"historyTable\").find_all(\"tr\"):\n",
    "        cells = row.find_all(\"td\")\n",
    "        if len(cells) == 4:\n",
    "            name = cells[0].text.strip()\n",
    "            if name in fields:\n",
    "                data[name] = cells[1].text.split()[0].strip()   # Split to remove units\n",
    "    return data\n",
    "scrape_file(\"0.html\")"
   ]
  },
  {
   "cell_type": "code",
   "execution_count": null,
   "metadata": {
    "collapsed": true
   },
   "outputs": [],
   "source": [
    "import csv\n",
    "\n",
    "csv_fields = [\"Month\", \"Day\", \"Year\"] + fields\n",
    "\n",
    "with open(\"weather_data.csv\", \"w\") as fout:\n",
    "    writer = csv.DictWriter(fout, csv_fields)\n",
    "    writer.writeheader()\n",
    "    \n",
    "    for i, link in enumerate(links):\n",
    "        data = scrape_file(\"{}.html\".format(i))\n",
    "        url_parts = link.split(\"/\")\n",
    "        data[\"Month\"] = int(url_parts[-3])\n",
    "        data[\"Year\"] = int(url_parts[-4])\n",
    "        data[\"Day\"] = int(url_parts[-2])\n",
    "        \n",
    "        writer.writerow(data)"
   ]
  },
  {
   "cell_type": "code",
   "execution_count": null,
   "metadata": {
    "collapsed": true
   },
   "outputs": [],
   "source": [
    "import pandas as pd\n",
    "\n",
    "data = pd.read_csv('weather_data.csv')"
   ]
  },
  {
   "cell_type": "code",
   "execution_count": null,
   "metadata": {
    "collapsed": true
   },
   "outputs": [],
   "source": [
    "pd.options.display.max_rows = 7\n",
    "data"
   ]
  },
  {
   "cell_type": "code",
   "execution_count": null,
   "metadata": {
    "collapsed": true
   },
   "outputs": [],
   "source": [
    "data.columns = [name.lower().replace(\" \", \"_\")\n",
    "                for name in data.columns]"
   ]
  },
  {
   "cell_type": "code",
   "execution_count": null,
   "metadata": {
    "collapsed": true
   },
   "outputs": [],
   "source": [
    "data[\"dew_point\"]"
   ]
  },
  {
   "cell_type": "code",
   "execution_count": null,
   "metadata": {
    "collapsed": true
   },
   "outputs": [],
   "source": [
    "print(data[\"dew_point\"].mean())\n",
    "data[\"dew_point\"] * 5"
   ]
  },
  {
   "cell_type": "code",
   "execution_count": null,
   "metadata": {
    "collapsed": true
   },
   "outputs": [],
   "source": [
    "print(len(data))\n",
    "print(len(data.columns))\n",
    "data.columns"
   ]
  },
  {
   "cell_type": "code",
   "execution_count": null,
   "metadata": {
    "collapsed": false
   },
   "outputs": [],
   "source": [
    "data.shape\n",
    "may_2015_data = data[(data.month == 5) & (data.year == 2015)]\n",
    "may_2015_data[:5]\n",
    "clean_data = data.convert_objects(convert_numeric=True)\n",
    "print(clean_data.dtypes)\n",
    "clean_data.precipitation.unique()\n",
    "\n"
   ]
  },
  {
   "cell_type": "code",
   "execution_count": null,
   "metadata": {
    "collapsed": true
   },
   "outputs": [],
   "source": [
    "##Implementing KNN Algorithm\n",
    "\n",
    "import pandas as pd\n",
    "\n",
    "data = pd.read_csv('clean_weather_data.csv')\n",
    "print(data.dtypes)\n",
    "data[:5]\n",
    "\n",
    "from sklearn.cross_validation import train_test_split\n",
    "\n",
    "X = data.drop('Precipitation', axis=1)\n",
    "y = data.Precipitation\n",
    "X_train, X_test, y_train, y_test = train_test_split(X, y, test_size=0.2)\n",
    "\n",
    "\n",
    "from sklearn.neighbors import KNeighborsRegressor\n",
    "\n",
    "knn_model = KNeighborsRegressor(n_neighbors=3)\n",
    "knn_model.fit(X_train, y_train)\n",
    "Out[3]:\n",
    "\n",
    "    \n",
    "knn_y = knn_model.predict(X_test)\n",
    "\n",
    "knn_sum_squares = ((knn_y - y_test) ** 2).sum()\n",
    "mean_sum_squares = ((y_test.mean() - y_test) ** 2).sum()\n",
    "\n",
    "print(\"Average loss:\", mean_sum_squares)\n",
    "print(\"KNN loss:\", knn_sum_squares)\n",
    "print(\"Variation explained: \", 100 * (1 - knn_sum_squares / mean_sum_squares), \"%\", sep=\"\")\n",
    "\n",
    "print(\"R^2: \", knn_model.score(X_test, y_test))\n",
    "\n"
   ]
  },
  {
   "cell_type": "code",
   "execution_count": null,
   "metadata": {
    "collapsed": true
   },
   "outputs": [],
   "source": [
    "##Modelling Linear Regression\n",
    "\n",
    "from sklearn.linear_model import LinearRegression\n",
    "linear_model = LinearRegression()\n",
    "linear_model.fit(X_train, y_train)\n",
    "\n",
    "print(linear_model.score(X_test, y_test))\n",
    "\n",
    "%matplotlib inline\n",
    "import seaborn as sns\n",
    "from matplotlib import pyplot as plt\n",
    "\n",
    "sns.plt.scatter(y_test, knn_model.predict(X_test))\n",
    "sns.plt.title('KNN Prediction Analysis')\n",
    "sns.plt.xlabel('Real Value')\n",
    "sns.plt.ylabel('Prediction')\n",
    "plt.show()\n",
    "\n",
    "sns.plt.scatter(y_test, linear_model.predict(X_test))\n",
    "sns.plt.title('Linear Regression Prediction Analysis')\n",
    "sns.plt.xlabel('Real Value')\n",
    "sns.plt.ylabel('Prediction')\n",
    "plt.show()\n",
    "\n"
   ]
  },
  {
   "cell_type": "code",
   "execution_count": null,
   "metadata": {
    "collapsed": true
   },
   "outputs": [],
   "source": [
    "##Visualizing using Bokeh\n",
    "\n",
    "import bokeh.io, bokeh.plotting, bokeh.models\n",
    "bokeh.io.output_notebook()\n",
    "\n",
    "p = bokeh.plotting.figure()\n",
    "p.circle(data.mean_temperature, data.dew_point)\n",
    "bokeh.plotting.show(p)\n",
    "\n",
    "q = bokeh.plotting.figure()\n",
    "q.circle(data.mean_temperature, data.dew_point)\n",
    "q.title = 'My Interactive Visualization'\n",
    "q.xaxis.axis_label = 'Average Temperature'\n",
    "q.yaxis.axis_label = 'Dew Point'\n",
    "bokeh.plotting.show(q)\n",
    "\n",
    "hist_plot = bokeh.plotting.figure(title = 'Histogram of Average Temperature')\n",
    "hist, edges = np.histogram(data.mean_temperature, bins = 25)\n",
    "hist_plot.quad(top = hist, bottom = 0, left = edges[:-1], right = edges[1:], line_color = \"#000000\")\n",
    "hist_plot.xaxis.axis_label = \"Average Temperature\"\n",
    "hist_plot.yaxis.axis_label = \"Frequency\"\n",
    "bokeh.plotting.show(hist_plot)\n",
    "\n",
    "\n",
    "line_data = np.linspace(data.mean_temperature.min(), data.mean_temperature.max())\n",
    "\n",
    "first = bokeh.plotting.figure()\n",
    "first.circle(data.mean_temperature, data.max_temperature)\n",
    "first.line(line_data, line_data)\n",
    "tab1 = bokeh.models.Panel(child = first, title = 'First Plot')\n",
    "\n",
    "second = bokeh.plotting.figure()\n",
    "second.circle(data.mean_temperature, data.min_temperature)\n",
    "second.line(line_data, line_data)\n",
    "tab2 = bokeh.models.Panel(child = second, title = 'Second Plot')\n",
    "\n",
    "tabs = bokeh.models.Tabs(tabs = [tab1, tab2])\n",
    "bokeh.plotting.show(tabs)\n",
    "\n",
    "\n",
    "start_value = 5\n",
    "point_size = [start_value for i in range(len(data))]\n",
    "\n",
    "source = bokeh.models.ColumnDataSource(data = dict(x = data.mean_temperature, y = data.dew_point, s = point_size))\n",
    "\n",
    "plot = bokeh.plotting.figure()\n",
    "plot.circle('x', 'y', size = 's', source = source)\n",
    "\n",
    "callback = bokeh.models.CustomJS(args = dict(source = source), code=\"\"\"\n",
    "        var data = source.get('data');\n",
    "        var size = cb_obj.get('value');\n",
    "        x = data['x'];\n",
    "        y = data['y'];\n",
    "        s = data['s'];\n",
    "        for (i = 0; i < x.length; i++) {\n",
    "            s[i] = size;\n",
    "        }\n",
    "        source.trigger('change');\n",
    "    \"\"\")\n",
    "\n",
    "size = bokeh.models.Slider(start = 1, end = 10, value = start_value, step = .05, title = \"Size\", callback = callback)\n",
    "\n",
    "layout = bokeh.io.vform(size, plot)\n",
    "\n",
    "bokeh.plotting.show(layout)\n",
    "\n"
   ]
  },
  {
   "cell_type": "code",
   "execution_count": null,
   "metadata": {
    "collapsed": true
   },
   "outputs": [],
   "source": [
    "##Display data for a point while hovering over it\n",
    "\n",
    "from bokeh.plotting import figure, output_file, show, ColumnDataSource\n",
    "from bokeh.models import HoverTool\n",
    "\n",
    "tooltip_source = bokeh.plotting.ColumnDataSource(data = dict(x = data.mean_temperature, y = data.dew_point,\\\n",
    "                                                             month = data.month, day = data.day, year = data.year))\n",
    "\n",
    "hover = bokeh.models.HoverTool(\n",
    "        tooltips = [\n",
    "            (\"Date\", \"@month-@day-@year\"),\n",
    "            (\"Average Temperature\", \"@x\"),\n",
    "            (\"Dew Point\", \"@y\")\n",
    "        ]\n",
    "    )\n",
    "\n",
    "fig = figure(tools = [hover], title = \"Hover over the dots!\")\n",
    "\n",
    "fig.circle('x', 'y', source = tooltip_source)\n",
    "\n",
    "show(fig)"
   ]
  }
 ],
 "metadata": {
  "kernelspec": {
   "display_name": "Python 3",
   "language": "python",
   "name": "python3"
  },
  "language_info": {
   "codemirror_mode": {
    "name": "ipython",
    "version": 3
   },
   "file_extension": ".py",
   "mimetype": "text/x-python",
   "name": "python",
   "nbconvert_exporter": "python",
   "pygments_lexer": "ipython3",
   "version": "3.5.1"
  }
 },
 "nbformat": 4,
 "nbformat_minor": 0
}
